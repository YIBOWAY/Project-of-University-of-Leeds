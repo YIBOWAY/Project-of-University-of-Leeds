{
  "cells": [
    {
      "cell_type": "code",
      "source": [
        "import json\n",
        "import os\n",
        "import pandas as pd\n",
        "from sklearn.feature_extraction.text import TfidfVectorizer\n",
        "from sklearn.tree import DecisionTreeClassifier\n",
        "from sklearn.ensemble import RandomForestClassifier\n",
        "from sklearn.metrics import classification_report\n",
        "\n",
        "def load_data(folder):\n",
        "    data = []\n",
        "    for filename in os.listdir(folder):\n",
        "        if filename.endswith('.json'):\n",
        "            with open(os.path.join(folder, filename)) as f:\n",
        "                file_data = json.load(f)\n",
        "                for article in file_data['articles']:\n",
        "                    data.append([article['title'] + ' ' + article['content'], file_data['label_text']])\n",
        "    return pd.DataFrame(data, columns=['text', 'label'])\n",
        "\n",
        "# Load training and test data\n",
        "train_folder = '~/data/task_4/train_json/'  \n",
        "test_folder = '~/data/task_4/dev_json/'  \n",
        "df_train = load_data(train_folder)\n",
        "df_test = load_data(test_folder)\n",
        "\n",
        "# Feature extraction\n",
        "vectorizer = TfidfVectorizer()\n",
        "X_train = vectorizer.fit_transform(df_train['text'])\n",
        "y_train = df_train['label']\n",
        "X_test = vectorizer.transform(df_test['text'])\n",
        "y_test = df_test['label']\n",
        "\n",
        "# Train Decision Tree model\n",
        "clf_tree = DecisionTreeClassifier()\n",
        "clf_tree.fit(X_train, y_train)\n",
        "\n",
        "# Evaluate Decision Tree model\n",
        "y_pred_tree = clf_tree.predict(X_test)\n",
        "print('Decision Tree performance:')\n",
        "print(classification_report(y_test, y_pred_tree))\n",
        "\n",
        "# Train Random Forest model\n",
        "clf_forest = RandomForestClassifier()\n",
        "clf_forest.fit(X_train, y_train)\n",
        "\n",
        "# Evaluate Random Forest model\n",
        "y_pred_forest = clf_forest.predict(X_test)\n",
        "print('\\nRandom Forest performance:')\n",
        "print(classification_report(y_test, y_pred_forest))"
      ],
      "outputs": [
        {
          "output_type": "stream",
          "name": "stdout",
          "text": [
            "Decision Tree performance:\n",
            "              precision    recall  f1-score   support\n",
            "\n",
            "        high       0.64      0.68      0.66       663\n",
            "         low       0.23      0.24      0.23       126\n",
            "       mixed       0.33      0.28      0.31       304\n",
            "\n",
            "    accuracy                           0.52      1093\n",
            "   macro avg       0.40      0.40      0.40      1093\n",
            "weighted avg       0.51      0.52      0.51      1093\n",
            "\n"
          ]
        },
        {
          "output_type": "stream",
          "name": "stdout",
          "text": [
            "\n",
            "Random Forest performance:\n",
            "              precision    recall  f1-score   support\n",
            "\n",
            "        high       0.61      1.00      0.76       663\n",
            "         low       0.50      0.02      0.05       126\n",
            "       mixed       0.60      0.01      0.02       304\n",
            "\n",
            "    accuracy                           0.61      1093\n",
            "   macro avg       0.57      0.34      0.27      1093\n",
            "weighted avg       0.60      0.61      0.47      1093\n",
            "\n"
          ]
        }
      ],
      "execution_count": null,
      "metadata": {
        "jupyter": {
          "outputs_hidden": false,
          "source_hidden": false
        },
        "noteable": {
          "cell_type": "code"
        },
        "ExecuteTime": {
          "start_time": "2023-06-06T12:13:47.985778+00:00",
          "end_time": "2023-06-06T12:13:52.146761+00:00"
        }
      },
      "id": "a5fe8e88-11c6-4e78-b8da-84fb50acdffa"
    }
  ],
  "metadata": {
    "noteable-chatgpt": {
      "create_notebook": {
        "openai_conversation_id": "824d1499-67c5-553e-a239-41a2c62e0029",
        "openai_ephemeral_user_id": "a5f96d0b-382e-5639-97ae-16fbd5e8948f",
        "openai_subdivision1_iso_code": "GB-ENG"
      }
    },
    "noteable": {
      "last_transaction_id": "0cbfe469-2b06-4601-80ba-3c8639c63df4",
      "last_delta_id": "d8cc698b-b7f1-494f-93e5-46f525f0237d"
    },
    "selected_hardware_size": "small",
    "nteract": {
      "version": "noteable@2.9.0"
    }
  },
  "nbformat": 4,
  "nbformat_minor": 5
}