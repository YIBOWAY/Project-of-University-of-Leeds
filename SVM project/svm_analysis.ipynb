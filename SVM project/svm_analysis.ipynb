{
  "cells": [
    {
      "cell_type": "code",
      "execution_count": null,
      "id": "bd937d30-a662-4366-91cd-081ebf90a750",
      "metadata": {
        "ExecuteTime": {
          "end_time": "2023-05-29T01:30:52.780695+00:00",
          "start_time": "2023-05-29T01:30:47.093692+00:00"
        },
        "jupyter": {
          "outputs_hidden": false,
          "source_hidden": false
        },
        "noteable": {
          "cell_type": "code"
        }
      },
      "outputs": [
        {
          "name": "stdout",
          "output_type": "stream",
          "text": [
            "              precision    recall  f1-score   support\n",
            "\n",
            "        high       0.61      1.00      0.76       663\n",
            "         low       0.33      0.02      0.03       126\n",
            "       mixed       0.83      0.02      0.03       304\n",
            "\n",
            "    accuracy                           0.61      1093\n",
            "   macro avg       0.59      0.34      0.27      1093\n",
            "weighted avg       0.64      0.61      0.47      1093\n",
            "\n"
          ]
        }
      ],
      "source": [
        "import json\n",
        "import os\n",
        "import pandas as pd\n",
        "from sklearn.feature_extraction.text import TfidfVectorizer\n",
        "from sklearn import svm\n",
        "from sklearn.metrics import classification_report\n",
        "\n",
        "def load_data(folder):\n",
        "    data = []\n",
        "    for filename in os.listdir(folder):\n",
        "        if filename.endswith('.json'):\n",
        "            with open(os.path.join(folder, filename)) as f:\n",
        "                file_data = json.load(f)\n",
        "                for article in file_data['articles']:\n",
        "                    data.append([article['title'] + ' ' + article['content'], file_data['label_text']])\n",
        "    return pd.DataFrame(data, columns=['text', 'label'])\n",
        "\n",
        "# Load training and test data\n",
        "train_folder = '~/data/task_4/train_json/'  \n",
        "test_folder = '~/data/task_4/dev_json/'  \n",
        "df_train = load_data(train_folder)\n",
        "df_test = load_data(test_folder)\n",
        "\n",
        "# Feature extraction\n",
        "vectorizer = TfidfVectorizer()\n",
        "X_train = vectorizer.fit_transform(df_train['text'])\n",
        "y_train = df_train['label']\n",
        "X_test = vectorizer.transform(df_test['text'])\n",
        "y_test = df_test['label']\n",
        "\n",
        "# Train model\n",
        "clf = svm.SVC()\n",
        "clf.fit(X_train, y_train)\n",
        "\n",
        "# Evaluate model\n",
        "y_pred = clf.predict(X_test)\n",
        "print(classification_report(y_test, y_pred))"
      ]
    }
  ],
  "metadata": {
    "language_info": {
      "name": "python"
    },
    "noteable": {
      "last_delta_id": "ccd399c3-ab1e-4308-8477-e8f7f18f59d7",
      "last_transaction_id": "a2328ede-d343-49da-8ee5-20ed6e180f98"
    },
    "noteable-chatgpt": {
      "create_notebook": {
        "openai_conversation_id": "824d1499-67c5-553e-a239-41a2c62e0029",
        "openai_ephemeral_user_id": "95e7a903-bcaf-525c-b903-cd1ac0b8a3e2",
        "openai_subdivision1_iso_code": "GB-ENG"
      }
    },
    "nteract": {
      "version": "noteable@2.9.0"
    },
    "selected_hardware_size": "small"
  },
  "nbformat": 4,
  "nbformat_minor": 5
}
